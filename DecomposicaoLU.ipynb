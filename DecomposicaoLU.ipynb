{
  "cells": [
    {
      "cell_type": "markdown",
      "source": [
        "Decomposição LU com **Matriz 3x3**"
      ],
      "metadata": {
        "id": "kuiJXDu63CQO"
      }
    },
    {
      "cell_type": "code",
      "execution_count": 1,
      "metadata": {
        "id": "wrEPmDvI1cfF"
      },
      "outputs": [],
      "source": [
        "def LUMatriz(a):\n",
        "  pivo1 = a[1][0] / a[0][0]\n",
        "  for j in range(3):\n",
        "    a[1][j] = a[1][j] - (pivo1 * a[0][j])\n",
        "\n",
        "  pivo2 = a[2][0]/ a[0][0]\n",
        "  for e in range(3):\n",
        "    a[2][e] = a[2][e] - (pivo2 * a[0][e])\n",
        "\n",
        "  pivo3 = a[2][1] / a[1][1]\n",
        "  f = 1\n",
        "  while (f < 3):\n",
        "    a[2][f] = a[2][f] - (pivo3 * a[1][f])\n",
        "    f = f + 1\n",
        "\n",
        "  b = [[1,0,0], [pivo1,1,0], [pivo2,pivo3,1]]\n",
        "  return [a , b]"
      ]
    },
    {
      "cell_type": "code",
      "execution_count": 2,
      "metadata": {
        "id": "HdgjNjIDHQyH"
      },
      "outputs": [],
      "source": [
        "def calculoY( lowM, res):\n",
        "  y1 = res[0][0]\n",
        "  y2 = res[1][0] - (lowM[1][0] * y1)\n",
        "  y3 = res[2][0] - (lowM[2][0] * y1) - (lowM[2][1] *y2)\n",
        "  matY = [[y1], [y2], [y3]]\n",
        "  return matY\n",
        "\n",
        "def calculoX(upM, yM):\n",
        "  x3 = yM[2][0] / upM[2][2]\n",
        "  x2 = (yM[1][0] - (upM[1][2] * x3))/ upM[1][1]\n",
        "  x1 = (yM[0][0] - (upM[0][1] * x2) - (upM[0][2] * x3)) / upM[0][0]\n",
        "  matX = [[x1], [x2], [x3]]\n",
        "  return matX"
      ]
    },
    {
      "cell_type": "code",
      "execution_count": 3,
      "metadata": {
        "colab": {
          "base_uri": "https://localhost:8080/"
        },
        "id": "-N0EFHCj23CN",
        "outputId": "11239842-9321-43f8-c5fb-65a6a0ba0083"
      },
      "outputs": [
        {
          "output_type": "stream",
          "name": "stdout",
          "text": [
            "U :  [[4, -2, 1], [0.0, 3.0, -1.5], [0.0, 0.0, 3.0]]\n",
            "L :  [[1, 0, 0], [-0.5, 1, 0], [0.25, -0.5, 1]]\n",
            "X :  [[1.0], [-2.0], [3.0]]\n",
            "Y :  [[11], [-10.5], [9.0]]\n"
          ]
        }
      ],
      "source": [
        "matrizOrig = [[4,-2,1], [-2,4,-2], [1,-2,4]]\n",
        "matrizRes= [[11],[-16],[17]]\n",
        "matriz = LUMatriz(matrizOrig)\n",
        "matrizU = matriz[0]\n",
        "matrizL = matriz[1]\n",
        "matrizY = calculoY(matrizL, matrizRes)\n",
        "matrizX = calculoX(matrizU, matrizY)\n",
        "\n",
        "print(\"U : \", matrizU)\n",
        "print(\"L : \", matrizL)\n",
        "print(\"X : \", matrizX)\n",
        "print(\"Y : \", matrizY)"
      ]
    },
    {
      "cell_type": "markdown",
      "source": [
        "Decomposição LU com qualquer tipo de **Matriz** **Quadrada**"
      ],
      "metadata": {
        "id": "tag2fBHI2nQL"
      }
    },
    {
      "cell_type": "code",
      "execution_count": 4,
      "metadata": {
        "id": "XPblHsTAZ8s5"
      },
      "outputs": [],
      "source": [
        "import math\n",
        "def trans(matriz):\n",
        "  # calculando a quantidade de linhas da matriz\n",
        "  linha = len(matriz)\n",
        "  # calculando a quantidade de colunas da matriz\n",
        "  coluna = len(matriz[0])\n",
        "  if(linha != 0 or coluna != 0):\n",
        "    mat = upper(m, linha, coluna)\n",
        "    return mat\n",
        "  else:\n",
        "    return"
      ]
    },
    {
      "cell_type": "code",
      "execution_count": 5,
      "metadata": {
        "id": "uU9zxXgrVmX7"
      },
      "outputs": [],
      "source": [
        "def upper(a, x, y):\n",
        "  if(x != y):\n",
        "    return\n",
        "  mU= a\n",
        "  k = 1\n",
        "  mPivo= [[ 0 for _ in range(y)] for _ in range(x) ]\n",
        "  for g in range(y - 1):\n",
        "    for i in range(k, x):\n",
        "        pivo = a[i][k-1]/a[k-1][k-1]\n",
        "        #print(pivo)\n",
        "        #print()\n",
        "        for j in range(y): #anda pela\n",
        "          if (j == (k-1) and i != 0):\n",
        "            mU[i][j] = 0\n",
        "          else:\n",
        "            mU[i][j] = m[i][j] - (pivo * m[k-1][j])\n",
        "        mPivo[i][k-1] = round(pivo, 2)\n",
        "    k += 1\n",
        "  mPivo = lower(mPivo, x,y)\n",
        "  return [mU , mPivo]\n",
        "\n",
        "def lower(lw, x, y):\n",
        "  for i in range(x):\n",
        "    lw[i][i] = 1\n",
        "  return lw"
      ]
    },
    {
      "cell_type": "code",
      "source": [
        "def matY(lowM, res, x):\n",
        "  mY= [ [ 0 for _ in range(1)] for _ in range(x)]\n",
        "  mY[0][0] = res[0][0]\n",
        "  for i in range(1,x):\n",
        "    Y = 0\n",
        "    for j in range(i):\n",
        "      Y += lowM[i][j] * mY[j][0]\n",
        "    mY[i][0] = res[i][0] - Y\n",
        "  return mY\n",
        "\n",
        "\n",
        "def matX(mUpper, matrY, y):\n",
        "  mX= [ [ 0 for _ in range(1)] for _ in range(y)]\n",
        "  mX[y-1][0] = matrY[y-1][0] / mUpper[y-1][y-1]\n",
        "  for i in range(y-2, -1, -1):\n",
        "    X = 0\n",
        "    for j in range(1, y):\n",
        "      X += mUpper[i][j] * mX[j][0]\n",
        "    mX[i][0] = ( matrY[i][0] - X) / mUpper[i][i]\n",
        "  return mX"
      ],
      "metadata": {
        "id": "CA3w2D3hcKF7"
      },
      "execution_count": 6,
      "outputs": []
    },
    {
      "cell_type": "code",
      "source": [
        "m = [[4,-2,1], [-2,4,-2], [1,-2,4]]\n",
        "r = [[11],[-16],[17]]\n",
        "mmm = trans(m)\n",
        "mUpp = mmm[0]\n",
        "mLow = mmm[1]\n",
        "matrY = matY(mLow, r, 3)\n",
        "matrX = matX(mUpp,matrY,3)\n",
        "print(\"U:\",mUpp)\n",
        "print(\"L:\",mLow)\n",
        "print(\"Y:\",matrY)\n",
        "print(\"X:\",matrX)"
      ],
      "metadata": {
        "colab": {
          "base_uri": "https://localhost:8080/"
        },
        "id": "PQMLhAk0lhqO",
        "outputId": "16c82db8-9d79-4741-e657-3bb043b985d8"
      },
      "execution_count": 7,
      "outputs": [
        {
          "output_type": "stream",
          "name": "stdout",
          "text": [
            "U: [[4, -2, 1], [0, 3.0, -1.5], [0.0, 0, 3.0]]\n",
            "L: [[1, 0, 0], [-0.5, 1, 0], [0.25, -0.5, 1]]\n",
            "Y: [[11], [-10.5], [9.0]]\n",
            "X: [[1.0], [-2.0], [3.0]]\n"
          ]
        }
      ]
    },
    {
      "cell_type": "markdown",
      "source": [
        "**Resolução de um problema com Decomposição LU**\n",
        "\n",
        "(IFPE) Com a proximidade do final do ano, uma papelaria quis antecipar as promoções de material didático para o ano letivo de 2012. Foram colocados em promoção caneta, caderno e lápis. As três ofertas eram:\n",
        "\n",
        "1ª) 5 canetas, 4 cadernos e 10 lápis por R$ 62,00;\n",
        "\n",
        "2ª) 3 canetas, 5 cadernos e 3 lápis por R$ 66,00;\n",
        "\n",
        "3ª) 2 canetas, 3 cadernos e 7 lápis por R$ 44,00.\n",
        "\n",
        "Para comparar os preços unitários dessa papelaria com outras do comércio, o Sr. Ricardo calculou os preços de uma caneta, um caderno e um lápis. A soma desses preços é:\n",
        "\n",
        "Equações base para a matriz (x => caneta ; y => caderno ; z => lápis):\n",
        "\n",
        "5x + 4y + 10z = 62\n",
        "\n",
        "3x + 5y +3z = 66\n",
        "\n",
        "2x + 3y +7z = 44\n"
      ],
      "metadata": {
        "id": "7VAmClVOlkM_"
      }
    },
    {
      "cell_type": "code",
      "source": [
        "#APLICAÇÂO MATRIZ LU EM UMA QUESTÂO IFPE\n",
        "m = [[5,4,10], [3,5,3], [2,3,7]]\n",
        "r = [[62],[66],[44]]\n",
        "mmm = trans(m)\n",
        "mUpp = mmm[0]\n",
        "mLow = mmm[1]\n",
        "matrY = matY(mLow, r, 3)\n",
        "matrX = matX(mUpp,matrY,3)\n",
        "resultado = 0\n",
        "for h in range(3):\n",
        "  resultado += round(matrX[h][0], 1)\n",
        "print(\"Resultado (caneta + caderno + lápis):\", resultado)"
      ],
      "metadata": {
        "colab": {
          "base_uri": "https://localhost:8080/"
        },
        "id": "Lk4ohN8vgDD5",
        "outputId": "445a0776-8ef2-49ad-e293-7ae0ad4d3673"
      },
      "execution_count": 8,
      "outputs": [
        {
          "output_type": "stream",
          "name": "stdout",
          "text": [
            "Resultado (caneta + caderno + lápis): 14.0\n"
          ]
        }
      ]
    }
  ],
  "metadata": {
    "colab": {
      "provenance": []
    },
    "kernelspec": {
      "display_name": "Python 3",
      "name": "python3"
    },
    "language_info": {
      "name": "python"
    }
  },
  "nbformat": 4,
  "nbformat_minor": 0
}