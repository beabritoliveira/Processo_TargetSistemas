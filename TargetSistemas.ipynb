{
  "nbformat": 4,
  "nbformat_minor": 0,
  "metadata": {
    "colab": {
      "provenance": [],
      "authorship_tag": "ABX9TyMzBemtJoh7bhv5wSIoVcZm",
      "include_colab_link": true
    },
    "kernelspec": {
      "name": "python3",
      "display_name": "Python 3"
    },
    "language_info": {
      "name": "python"
    }
  },
  "cells": [
    {
      "cell_type": "markdown",
      "metadata": {
        "id": "view-in-github",
        "colab_type": "text"
      },
      "source": [
        "<a href=\"https://colab.research.google.com/github/beabritoliveira/Processo_TargetSistemas/blob/main/TargetSistemas.ipynb\" target=\"_parent\"><img src=\"https://colab.research.google.com/assets/colab-badge.svg\" alt=\"Open In Colab\"/></a>"
      ]
    },
    {
      "cell_type": "code",
      "execution_count": 1,
      "metadata": {
        "colab": {
          "base_uri": "https://localhost:8080/"
        },
        "id": "0QNRY8_iyvto",
        "outputId": "ce3d1609-d705-4a8b-f311-a837fcadc055"
      },
      "outputs": [
        {
          "output_type": "stream",
          "name": "stdout",
          "text": [
            "91\n"
          ]
        }
      ],
      "source": [
        "# QUESTAO 1\n",
        "INDICE = 13\n",
        "SOMA = 0\n",
        "K = 0\n",
        "while(K < INDICE):\n",
        "  K = K+1\n",
        "  SOMA = SOMA + K\n",
        "print(SOMA)"
      ]
    },
    {
      "cell_type": "code",
      "source": [
        "#QUESTAO 2\n",
        "def fibonacci(num):\n",
        "  fibon = [0,1]\n",
        "  i = 0\n",
        "  while(num != fibon[i]):\n",
        "    if(num < fibon[i]):\n",
        "      return False\n",
        "    else:\n",
        "      x = len(fibon)\n",
        "      f = fibon[x-2] + fibon[x-1]\n",
        "      fibon.append(f)\n",
        "      i +=1\n",
        "  return True\n",
        "\n",
        "fib = fibonacci(14)\n",
        "if(fib):\n",
        "  print(\"O numero esta na sequencia de fibonacci\")\n",
        "else:\n",
        "  print(\"O numero nao pertence a sequencia de fibonacci\")"
      ],
      "metadata": {
        "colab": {
          "base_uri": "https://localhost:8080/"
        },
        "id": "aq-QHd8L0O_n",
        "outputId": "7619bc00-bb7c-4b16-a606-4be2cc7d2384"
      },
      "execution_count": 161,
      "outputs": [
        {
          "output_type": "stream",
          "name": "stdout",
          "text": [
            "O numero nao pertence a sequencia de fibonacci\n"
          ]
        }
      ]
    },
    {
      "cell_type": "code",
      "source": [
        "#QUESTAO 3\n",
        "import json\n",
        "import pandas as pd\n",
        "\n",
        "# r => leitura de dados do arquivo importado dados.json\n",
        "with open(\"dados.json\", \"r\") as arquivo:\n",
        "      vet_fatur = json.load(arquivo)\n",
        "\n",
        "dt = pd.json_normalize(vet_fatur)\n",
        "\n",
        "def menorValor(distri):\n",
        "  lowerIncome = 99999999\n",
        "  stopPoint = len(distri)\n",
        "  index = -1\n",
        "  for i in range(stopPoint):\n",
        "    if(distri[i] < lowerIncome and distri[i] != 0):\n",
        "      lowerIncome = distri[i]\n",
        "      index = i\n",
        "  return [lowerIncome , index+1]\n",
        "\n",
        "def maiorValor(distri):\n",
        "  BIncome = -1\n",
        "  stopPoint = len(distri)\n",
        "  index = -1\n",
        "  for i in range(stopPoint):\n",
        "    if(distri[i] > BIncome and distri[i] != 0):\n",
        "      BIncome = distri[i]\n",
        "      index = i\n",
        "  return [BIncome , index+1]\n",
        "\n",
        "def mediaSup(distri):\n",
        "  numDias = 0\n",
        "  media = 0\n",
        "  stopPoint = len(distri)\n",
        "  dTrabalhados = 0\n",
        "  for i in range(stopPoint):\n",
        "    if(distri[i] != 0):\n",
        "      media += distri[i]\n",
        "      dTrabalhados += 1\n",
        "  media /= dTrabalhados\n",
        "  for j in range(stopPoint):\n",
        "    if(distri[j] > media):\n",
        "      numDias += 1\n",
        "  return numDias\n",
        "\n",
        "x = menorValor(dt['valor'])\n",
        "y = maiorValor(dt['valor'])\n",
        "z = mediaSup(dt['valor'])\n",
        "\n",
        "print(\"Menor valor de faturamento:\", x[0], \"(dia:\", x[1], \")\")\n",
        "print(\"Maior valor de faturamento:\", y[0], \"(dia:\", y[1], \")\")\n",
        "print(\"Quantidade de dias que faturaram mais que a media mensal:\", z)\n"
      ],
      "metadata": {
        "colab": {
          "base_uri": "https://localhost:8080/"
        },
        "id": "8VqQEtke2WZM",
        "outputId": "f0d686e3-2ac1-4b8d-cfbd-61a7170c65b0"
      },
      "execution_count": 165,
      "outputs": [
        {
          "output_type": "stream",
          "name": "stdout",
          "text": [
            "Menor valor de faturamento: 373.7838 (dia: 14 )\n",
            "Maior valor de faturamento: 48924.2448 (dia: 16 )\n",
            "Quantidade de dias que faturaram mais que a media mensal: 10\n"
          ]
        }
      ]
    },
    {
      "cell_type": "code",
      "source": [
        "# QUESTAO 4\n",
        "sp = 67_836.43\n",
        "rj = 36_678.66\n",
        "mg = 29_229.88\n",
        "es = 27_165.48\n",
        "outros = 19_849.53\n",
        "def calculoPercentual(estado):\n",
        "  totalMensal = sp + rj +mg +es + outros\n",
        "  return round(((estado / totalMensal) * 100), 3)\n",
        "print(calculoPercentual(sp))"
      ],
      "metadata": {
        "colab": {
          "base_uri": "https://localhost:8080/"
        },
        "id": "JN5hA8wZCBth",
        "outputId": "0c74a7dd-c4b4-4b07-dff6-3003cb6b6fd4"
      },
      "execution_count": 62,
      "outputs": [
        {
          "output_type": "stream",
          "name": "stdout",
          "text": [
            "37.528\n"
          ]
        }
      ]
    },
    {
      "cell_type": "code",
      "source": [
        "#QUESTAO 5\n",
        "def inversaoStr(palav):\n",
        "  inv = []\n",
        "  tam = len(palav) -1\n",
        "  while(tam >= 0):\n",
        "    inv.append(palav[tam])\n",
        "    tam -= 1\n",
        "  return inv\n",
        "\n",
        "print(inversaoStr(input(\"insira uma palavra para ser invertida: \")))\n"
      ],
      "metadata": {
        "id": "yfME3JIzEH4H"
      },
      "execution_count": null,
      "outputs": []
    }
  ]
}